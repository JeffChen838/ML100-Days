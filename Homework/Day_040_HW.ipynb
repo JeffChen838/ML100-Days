{
 "cells": [
  {
   "cell_type": "markdown",
   "metadata": {},
   "source": [
    "## 練習時間\n",
    "試著使用 sklearn datasets 的其他資料集 (boston, ...)，來訓練自己的線性迴歸模型，並加上適當的正則話來觀察訓練情形。"
   ]
  },
  {
   "cell_type": "code",
   "execution_count": 6,
   "metadata": {},
   "outputs": [],
   "source": [
    "import numpy as np\n",
    "import matplotlib.pyplot as plt\n",
    "from sklearn import datasets, linear_model\n",
    "from sklearn.model_selection import train_test_split\n",
    "from sklearn.metrics import mean_squared_error, r2_score, accuracy_score\n"
   ]
  },
  {
   "cell_type": "code",
   "execution_count": 16,
   "metadata": {},
   "outputs": [
    {
     "data": {
      "text/plain": [
       "(150, 4)"
      ]
     },
     "execution_count": 16,
     "metadata": {},
     "output_type": "execute_result"
    }
   ],
   "source": [
    "# 讀取鳶尾花資料集\n",
    "iris = datasets.load_iris()\n",
    "iris.data.shape"
   ]
  },
  {
   "cell_type": "code",
   "execution_count": 22,
   "metadata": {},
   "outputs": [],
   "source": [
    "# 讀取鳶尾花資料集\n",
    "iris = datasets.load_iris()\n",
    "\n",
    "# 切分訓練集/測試集\n",
    "x_train, x_test, y_train, y_test = train_test_split(iris.data, iris.target, test_size=0.1, random_state=4)\n",
    "\n"
   ]
  },
  {
   "cell_type": "code",
   "execution_count": 24,
   "metadata": {},
   "outputs": [
    {
     "name": "stdout",
     "output_type": "stream",
     "text": [
      "[-0.14094001 -0.02886033  0.2580723   0.56913766]\n",
      "Mean squared error: 0.07\n"
     ]
    }
   ],
   "source": [
    "# 建立模型\n",
    "reg = linear_model.Ridge(alpha=0.5)\n",
    "\n",
    "# 訓練模型\n",
    "reg.fit(x_train, y_train)\n",
    "\n",
    "# 預測測試集\n",
    "y_pred = reg.predict(x_test)\n",
    "\n",
    "print(reg.coef_)\n",
    "print(\"Mean squared error: %.2f\"\n",
    "      % mean_squared_error(y_test, y_pred))"
   ]
  },
  {
   "cell_type": "code",
   "execution_count": 25,
   "metadata": {},
   "outputs": [
    {
     "name": "stdout",
     "output_type": "stream",
     "text": [
      "[-0.13871647 -0.02630141  0.27140413  0.53510309]\n",
      "Mean squared error: 0.07\n"
     ]
    }
   ],
   "source": [
    "# 建立模型\n",
    "reg = linear_model.Ridge(alpha=1.0)\n",
    "\n",
    "# 訓練模型\n",
    "reg.fit(x_train, y_train)\n",
    "\n",
    "# 預測測試集\n",
    "y_pred = reg.predict(x_test)\n",
    "\n",
    "print(reg.coef_)\n",
    "print(\"Mean squared error: %.2f\"\n",
    "      % mean_squared_error(y_test, y_pred))"
   ]
  },
  {
   "cell_type": "code",
   "execution_count": 26,
   "metadata": {},
   "outputs": [
    {
     "name": "stdout",
     "output_type": "stream",
     "text": [
      "[-0.13127417 -0.02481437  0.28955789  0.48330316]\n",
      "Mean squared error: 0.07\n"
     ]
    }
   ],
   "source": [
    "# 建立模型\n",
    "reg = linear_model.Ridge(alpha=2.0)\n",
    "\n",
    "# 訓練模型\n",
    "reg.fit(x_train, y_train)\n",
    "\n",
    "# 預測測試集\n",
    "y_pred = reg.predict(x_test)\n",
    "\n",
    "print(reg.coef_)\n",
    "print(\"Mean squared error: %.2f\"\n",
    "      % mean_squared_error(y_test, y_pred))"
   ]
  },
  {
   "cell_type": "code",
   "execution_count": null,
   "metadata": {},
   "outputs": [],
   "source": []
  }
 ],
 "metadata": {
  "kernelspec": {
   "display_name": "Python 3",
   "language": "python",
   "name": "python3"
  },
  "language_info": {
   "codemirror_mode": {
    "name": "ipython",
    "version": 3
   },
   "file_extension": ".py",
   "mimetype": "text/x-python",
   "name": "python",
   "nbconvert_exporter": "python",
   "pygments_lexer": "ipython3",
   "version": "3.6.5"
  }
 },
 "nbformat": 4,
 "nbformat_minor": 2
}
